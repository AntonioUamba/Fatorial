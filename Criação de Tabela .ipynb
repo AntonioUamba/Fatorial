{
 "cells": [
  {
   "cell_type": "code",
   "execution_count": 18,
   "id": "60758317",
   "metadata": {},
   "outputs": [
    {
     "name": "stdout",
     "output_type": "stream",
     "text": [
      "Requirement already satisfied: psycopg2 in c:\\users\\uamba\\anaconda3\\lib\\site-packages (2.9.6)\n"
     ]
    }
   ],
   "source": [
    "#installaçao da biblioteca \n",
    "!pip install psycopg2\n"
   ]
  },
  {
   "cell_type": "code",
   "execution_count": 29,
   "id": "2c7af735",
   "metadata": {},
   "outputs": [],
   "source": [
    "#conecão com o postgreSQL\n",
    "import psycopg2\n",
    "\n",
    "conn = psycopg2.connect(\n",
    "    host=\"localhost\",\n",
    "    database=\"postgres\",\n",
    "    user=\"postgres\",\n",
    "    password=\"*******\")"
   ]
  },
  {
   "cell_type": "code",
   "execution_count": 30,
   "id": "a767820d",
   "metadata": {},
   "outputs": [],
   "source": [
    "#crindo cursor \n",
    "cur = conn.cursor()"
   ]
  },
  {
   "cell_type": "code",
   "execution_count": 32,
   "id": "361abbb8",
   "metadata": {},
   "outputs": [],
   "source": [
    "cur.execute(\"\"\"\n",
    "    CREATE TABLE aluno (\n",
    "        ID int,\n",
    "        nome TEXT,\n",
    "        idade INTEGER,\n",
    "        cidade TEXT,\n",
    "        cep TEXT,\n",
    "        email TEXT\n",
    "    )\n",
    "\"\"\")"
   ]
  },
  {
   "cell_type": "code",
   "execution_count": 39,
   "id": "23bc80c6",
   "metadata": {},
   "outputs": [],
   "source": [
    "#criação de tabela\n",
    "import psycopg2\n",
    "\n",
    "conn = psycopg2.connect(\n",
    "    host=\"localhost\",\n",
    "    database=\"postgres\",\n",
    "    user=\"postgres\",\n",
    "    password=\"******\")\n",
    "\n",
    "cur = conn.cursor()\n",
    "\n",
    "try:\n",
    "    cur.execute(\"\"\"\n",
    "    CREATE TABLE ALUNO (\n",
    "        id SERIAL PRIMARY KEY,\n",
    "        nome TEXT NOT NULL,\n",
    "        idade INTEGER,\n",
    "        cidade TEXT,\n",
    "        cep CHAR(8),\n",
    "        email TEXT\n",
    "    )\n",
    "\"\"\")\n",
    "\n",
    "    conn.commit()\n",
    "\n",
    "except psycopg2.DatabaseError as error:\n",
    "    print(\"Erro ao inserir dados:\", error)\n",
    "    conn.rollback()\n",
    "\n",
    "cur.close()\n",
    "conn.close()"
   ]
  },
  {
   "cell_type": "code",
   "execution_count": 44,
   "id": "cdd82755",
   "metadata": {},
   "outputs": [],
   "source": [
    "#insersão dos dados na tabela \n",
    "import psycopg2\n",
    "\n",
    "conn = psycopg2.connect(\n",
    "    host=\"localhost\",\n",
    "    database=\"postgres\",\n",
    "    user=\"postgres\",\n",
    "    password=\"*****\")\n",
    "\n",
    "cur = conn.cursor()\n",
    "\n",
    "cur.execute(\"\"\"\n",
    "    INSERT INTO ALUNO (nome, idade, cidade, cep, email)\n",
    "    VALUES\n",
    "    ('Antonio', 24, 'Fortaleza', '62785000', 'antonio@mail.com'),\n",
    "    ('Paulo', 19, 'Acarape', '62785000',   'paulo@mail.com'),\n",
    "    ('João', 22, 'São Paulo', '04571000', 'joao@mail.com')\n",
    "\"\"\")\n",
    "\n",
    "conn.commit()\n",
    "\n",
    "cur.close()S\n",
    "conn.close()"
   ]
  },
  {
   "cell_type": "code",
   "execution_count": 43,
   "id": "304736c1",
   "metadata": {},
   "outputs": [],
   "source": [
    "# deleção \n",
    "import psycopg2\n",
    "\n",
    "conn = psycopg2.connect(\n",
    "    host=\"localhost\",\n",
    "    database=\"postgres\",\n",
    "    user=\"postgres\",\n",
    "    password=\"*****\")\n",
    "\n",
    "cur = conn.cursor()\n",
    "\n",
    "cur.execute(\"\"\"\n",
    "    DELETE FROM ALUNO WHERE cidade = 'São Paulo' \n",
    "\"\"\") \n",
    "\n",
    "conn.commit()\n",
    "\n",
    "cur.close()\n",
    "conn.close()"
   ]
  },
  {
   "cell_type": "code",
   "execution_count": 2,
   "id": "8b0ac9cc",
   "metadata": {},
   "outputs": [],
   "source": [
    "\n",
    "import psycopg2\n",
    "\n",
    "# Criar uma conexão com o PostgreSQL\n",
    "conn = psycopg2.connect(\n",
    "    host=\"localhost\",\n",
    "    database=\"postgres\",\n",
    "    user=\"postgres\",\n",
    "    password=\"******\"\n",
    ")\n",
    "\n",
    "#  Criar um cursor\n",
    "cursor = conn.cursor()\n",
    "\n",
    "# Criar uma tabela no banco de dados\n",
    "create_table_query = '''\n",
    "CREATE TABLE Cagedexc (\n",
    "    competenciamov TEXT,\n",
    "    regiao TEXT,\n",
    "    uf TEXT,\n",
    "    municipio TEXT,\n",
    "    secao TEXT,\n",
    "    subclass TEXT,\n",
    "    saldomovimentacao TEXT,\n",
    "    cbo2002ocupacao TEXT,\n",
    "    categoria TEXT,\n",
    "    graudeinstrucao TEXT,\n",
    "    idade TEXT,\n",
    "    horascontratuais TEXT,\n",
    "    racacor TEXT,\n",
    "    sexo TEXT,\n",
    "    tipoempregador TEXT,\n",
    "    tipoestabelecimento TEXT,\n",
    "    tipomovimentacao TEXT,\n",
    "    tipodedeficiencia TEXT,\n",
    "    indtrabintermitente TEXT,\n",
    "    indtrabparcial TEXT,\n",
    "    salario TEXT,\n",
    "    tamestabjan TEXT,\n",
    "    indicadoraprendiz TEXT,\n",
    "    origemdainformacao TEXT,\n",
    "    competenciadec TEXT,\n",
    "    competenciaexc TEXT,\n",
    "    indicadordeexclusao TEXT,\n",
    "    indicadordeforadoprazo TEXT,\n",
    "    unidadesalariocodigo TEXT,\n",
    "    valorsalariofixo TEXT\n",
    ");\n",
    "'''\n",
    "cursor.execute(create_table_query)\n",
    "\n",
    "# Confirmar as alterações\n",
    "conn.commit()\n",
    "\n",
    "# Fechar o cursor e a conexão\n",
    "cursor.close()\n",
    "conn.close()\n"
   ]
  },
  {
   "cell_type": "code",
   "execution_count": 1,
   "id": "ea2dffd8",
   "metadata": {
    "scrolled": true
   },
   "outputs": [
    {
     "ename": "UndefinedFile",
     "evalue": "could not open file \"/home/uamba/EXC202210\" for reading: No such file or directory\nHINT:  COPY FROM instructs the PostgreSQL server process to read a file. You may want a client-side facility such as psql's \\copy.\n",
     "output_type": "error",
     "traceback": [
      "\u001b[1;31m---------------------------------------------------------------------------\u001b[0m",
      "\u001b[1;31mUndefinedFile\u001b[0m                             Traceback (most recent call last)",
      "Cell \u001b[1;32mIn[1], line 20\u001b[0m\n\u001b[0;32m     16\u001b[0m \u001b[38;5;66;03m# Carregar o arquivo CSV na tabela\u001b[39;00m\n\u001b[0;32m     17\u001b[0m copy_query \u001b[38;5;241m=\u001b[39m \u001b[38;5;124m'''\u001b[39m\n\u001b[0;32m     18\u001b[0m \u001b[38;5;124mCOPY Cagedexc FROM \u001b[39m\u001b[38;5;124m'\u001b[39m\u001b[38;5;124m/home/uamba/EXC202210\u001b[39m\u001b[38;5;124m'\u001b[39m\u001b[38;5;124m DELIMITER \u001b[39m\u001b[38;5;124m'\u001b[39m\u001b[38;5;124m,\u001b[39m\u001b[38;5;124m'\u001b[39m\u001b[38;5;124m CSV HEADER;\u001b[39m\n\u001b[0;32m     19\u001b[0m \u001b[38;5;124m'''\u001b[39m\n\u001b[1;32m---> 20\u001b[0m \u001b[43mcursor\u001b[49m\u001b[38;5;241;43m.\u001b[39;49m\u001b[43mexecute\u001b[49m\u001b[43m(\u001b[49m\u001b[43mcopy_query\u001b[49m\u001b[43m)\u001b[49m\n\u001b[0;32m     22\u001b[0m \u001b[38;5;66;03m# Confirmar as alterações\u001b[39;00m\n\u001b[0;32m     23\u001b[0m conn\u001b[38;5;241m.\u001b[39mcommit()\n",
      "\u001b[1;31mUndefinedFile\u001b[0m: could not open file \"/home/uamba/EXC202210\" for reading: No such file or directory\nHINT:  COPY FROM instructs the PostgreSQL server process to read a file. You may want a client-side facility such as psql's \\copy.\n"
     ]
    }
   ],
   "source": [
    "#carregamento do arquivo CSV \n",
    "\n",
    "import psycopg2\n",
    "\n",
    "# Criar uma conexão com o PostgreSQL\n",
    "conn = psycopg2.connect(\n",
    "    host=\"localhost\",\n",
    "    database=\"postgres\",\n",
    "    user=\"postgres\",\n",
    "    password=\"*****\"\n",
    ")\n",
    "\n",
    "#  Criar um cursor\n",
    "cursor = conn.cursor()\n",
    "\n",
    "# Carregar o arquivo CSV na tabela\n",
    "copy_query = '''\n",
    "COPY Cagedexc FROM '/home/uamba/EXC202210' DELIMITER ',' CSV HEADER;\n",
    "'''\n",
    "cursor.execute(copy_query)\n",
    "\n",
    "# Confirmar as alterações\n",
    "conn.commit()\n",
    "\n",
    "# Fechar o cursor e a conexão\n",
    "cursor.close()\n",
    "conn.close()"
   ]
  },
  {
   "cell_type": "code",
   "execution_count": null,
   "id": "1251283c",
   "metadata": {},
   "outputs": [],
   "source": []
  }
 ],
 "metadata": {
  "kernelspec": {
   "display_name": "Python 3 (ipykernel)",
   "language": "python",
   "name": "python3"
  },
  "language_info": {
   "codemirror_mode": {
    "name": "ipython",
    "version": 3
   },
   "file_extension": ".py",
   "mimetype": "text/x-python",
   "name": "python",
   "nbconvert_exporter": "python",
   "pygments_lexer": "ipython3",
   "version": "3.10.9"
  }
 },
 "nbformat": 4,
 "nbformat_minor": 5
}
